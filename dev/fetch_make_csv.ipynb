{
 "cells": [
  {
   "cell_type": "markdown",
   "id": "612ae2e9-c245-4f5b-b208-2f8ee8a0d303",
   "metadata": {},
   "source": [
    "さんこう\n",
    "https://ai-inter1.com/beautifulsoup_1/"
   ]
  },
  {
   "cell_type": "code",
   "execution_count": null,
   "id": "f408e6a1-9657-4ada-86a5-7d80b99e8669",
   "metadata": {},
   "outputs": [],
   "source": [
    "import urllib.request\n",
    "from urllib.parse import urlparse\n",
    "import csv\n",
    "\n",
    "keyword = \"ファッション\"\n",
    "url = 'https://google.com/search?q='+ keyword +'&filter=0&num=100'\n",
    "\n",
    "# Perform the request\n",
    "p = urlparse(url)\n",
    "query = urllib.parse.quote_plus(p.query, safe='=&')\n",
    "url = '{}://{}{}{}{}{}{}{}{}'.format(\n",
    "    p.scheme, p.netloc, p.path,\n",
    "    ';' if p.params else '', p.params,\n",
    "    '?' if p.query else '', query,\n",
    "    '#' if p.fragment else '', p.fragment)\n",
    "request = urllib.request.Request(url)\n",
    "\n",
    "# Set a normal User Agent header, otherwise Google will block the request.\n",
    "request.add_header('User-Agent', 'Mozilla/5.0 (Macintosh; Intel Mac OS X 10_15_6) AppleWebKit/537.36 (KHTML, like Gecko) Chrome/87.0.4280.88 Safari/537.36')\n",
    "raw_response = urllib.request.urlopen(request).read()\n",
    "\n",
    "# Read the repsonse as a utf-8 string\n",
    "html = raw_response.decode(\"utf-8\")\n",
    "\n",
    "from bs4 import BeautifulSoup\n",
    "\n",
    "# The code to get the html contents here.\n",
    "\n",
    "soup = BeautifulSoup(html, 'html.parser')\n",
    "divs = soup.select(\"#search div.g\")\n",
    "# divs2 = soup.select(\"#search div.g > h2 > a\")"
   ]
  },
  {
   "cell_type": "code",
   "execution_count": null,
   "id": "56a860bc-e0fc-4a70-be69-d83deb496e53",
   "metadata": {
    "tags": []
   },
   "outputs": [],
   "source": [
    "soup"
   ]
  },
  {
   "cell_type": "code",
   "execution_count": null,
   "id": "033d0eca-9f52-402f-9357-f4053c552e83",
   "metadata": {
    "tags": []
   },
   "outputs": [],
   "source": [
    "for div in divs:\n",
    "    print(div)\n",
    "    print(\"\")"
   ]
  },
  {
   "cell_type": "code",
   "execution_count": null,
   "id": "9ae4cfc5-b03d-40b9-aea9-64b39bcd8b01",
   "metadata": {
    "tags": []
   },
   "outputs": [],
   "source": [
    "divs2 = soup.select(\".g\")\n",
    "for div in divs2:\n",
    "    print(div)\n",
    "    print(\"\")\n",
    "    results = div.select(\"a\")\n",
    "    print(results)\n",
    "    print(results[0].get('href'))\n",
    "    print(\"\")\n",
    "    print(\"\")"
   ]
  },
  {
   "cell_type": "code",
   "execution_count": null,
   "id": "eb9bb0ae-1e70-4f74-9ff7-5823638ac426",
   "metadata": {
    "tags": []
   },
   "outputs": [],
   "source": [
    "results = div.select('a')\n",
    "for result in results:\n",
    "    print(result)\n",
    "    print(result.get_text())\n",
    "#     print(result.select('href'))\n",
    "# for div in divs:\n",
    "# #     results = div.select(\"span\")\n",
    "# #     print(results)\n",
    "# #     print(div.get('href'))\n",
    "#     results = div.select('a')\n",
    "    \n",
    "# #     print(result.attrs['href']) \n",
    "# #     print(results.find_all(href))\n",
    "# #     print(results.select('href'))\n",
    "# #     print(results)\n",
    "    \n",
    "#     print(\"\")\n"
   ]
  },
  {
   "cell_type": "code",
   "execution_count": null,
   "id": "d4776932-1aea-4ab4-86fb-93ab2f8f5ed4",
   "metadata": {
    "tags": []
   },
   "outputs": [],
   "source": [
    "filename = keyword + '.csv'\n",
    "\n",
    "with open(filename, 'w', newline='') as outcsv:\n",
    "    csvwriter = csv.writer(outcsv)\n",
    "    csvwriter.writerow(['keyword', 'site_name','snnipet',  'URL', 'ranking'])\n",
    "\n",
    "    # Find all the search result divs\n",
    "\n",
    "    for i, div in enumerate(divs):\n",
    "        # Search for a h3 tag\n",
    "        results = div.select(\"h3\")\n",
    "#         print(results)\n",
    "        if (len(results) >= 1):\n",
    "            # Print the title\n",
    "            site_name = results[0].get_text()\n",
    "\n",
    "        # Search for a span tag\n",
    "        results = div.select(\"span\")\n",
    "        if (len(results) >= 1):\n",
    "            # Print the snnipet\n",
    "            snnipet = results[-1].get_text()\n",
    "\n",
    "        results = div.select(\"a\")\n",
    "        if (len(results) >= 1):\n",
    "            url_text = results[0].get('href')\n",
    "        \n",
    "        csvwriter.writerow([keyword, site_name, snnipet, '=HYPERLINK(\"' + url_text + '\")', str(i)])\n",
    "    outcsv.close()\n",
    "\n",
    "\n",
    "# Print number of search result\n",
    "print(\"count:\", len(divs))"
   ]
  },
  {
   "cell_type": "markdown",
   "id": "6b3ed84f-142e-42af-a8be-05b30e24c897",
   "metadata": {},
   "source": [
    "こっから違う話"
   ]
  },
  {
   "cell_type": "code",
   "execution_count": 11,
   "id": "b2424a1a-45f3-41f3-b7c0-f729425b2e03",
   "metadata": {},
   "outputs": [
    {
     "data": {
      "text/plain": [
       "array([[0.02563957, 0.26148839, 0.88517063, 0.30221923],\n",
       "       [0.65465275, 0.15041464, 0.3076652 , 0.22434777],\n",
       "       [0.75426818, 0.17865753, 0.05722034, 0.90072586],\n",
       "       [0.69360749, 0.21415531, 0.95140567, 0.31142456],\n",
       "       [0.05006059, 0.46811861, 0.23861253, 0.14761086],\n",
       "       [0.71492739, 0.87082692, 0.60351851, 0.11769382],\n",
       "       [0.68545572, 0.58573744, 0.60126744, 0.96855271],\n",
       "       [0.00099986, 0.27962195, 0.18206966, 0.99145721],\n",
       "       [0.96748163, 0.33388019, 0.43449703, 0.68776786]])"
      ]
     },
     "execution_count": 11,
     "metadata": {},
     "output_type": "execute_result"
    }
   ],
   "source": [
    "import numpy as np\n",
    "\n",
    "X = np.random.rand(36).reshape(9,4)\n",
    "mask_std = np.zeros(X.shape)\n",
    "X"
   ]
  },
  {
   "cell_type": "code",
   "execution_count": null,
   "id": "57eaab59-0d09-4197-be0a-ff7af634d692",
   "metadata": {},
   "outputs": [],
   "source": [
    "print(np.argmax(X, axis=1))\n",
    "mask = np.argmax(X, axis=1)\n",
    "k_max = np.max(X, axis=0)"
   ]
  },
  {
   "cell_type": "code",
   "execution_count": null,
   "id": "411d5d54-d642-41fe-8f5d-a7991a68db67",
   "metadata": {},
   "outputs": [],
   "source": [
    "# For mask and normalization(min:0, max->1)\n",
    "for i, max_k in enumerate(mask):\n",
    "    mask_std[i, max_k] = 1 / k_max[max_k]\n",
    "X_mask_std = X * mask_std    "
   ]
  },
  {
   "cell_type": "code",
   "execution_count": null,
   "id": "c194345f-857c-42de-b648-0ccd4fa5b1c5",
   "metadata": {},
   "outputs": [],
   "source": [
    "DEFAULT_PLOTLY_COLORS=['rgb(31, 119, 180)', 'rgb(255, 127, 14)',\n",
    "                       'rgb(44, 160, 44)', 'rgb(214, 39, 40)',\n",
    "                       'rgb(148, 103, 189)', 'rgb(140, 86, 75)',\n",
    "                       'rgb(227, 119, 194)', 'rgb(127, 127, 127)',\n",
    "                       'rgb(188, 189, 34)', 'rgb(23, 190, 207)']\n",
    "alpha = 0.1\n",
    "# for k in DEFAULT_PLOTLY_COLORS:\n",
    "#     print(\")\n",
    "DPC_with_Alpha = [k[:-1]+', '+str(alpha)+k[-1:] for k in DEFAULT_PLOTLY_COLORS]\n",
    "DPC_with_Alpha"
   ]
  },
  {
   "cell_type": "code",
   "execution_count": null,
   "id": "a03eacdd-f3f8-4239-a7bc-22eb6c8fad67",
   "metadata": {},
   "outputs": [],
   "source": []
  },
  {
   "cell_type": "code",
   "execution_count": 6,
   "id": "0a096ee8-2033-4b65-97f5-c777067c3a76",
   "metadata": {},
   "outputs": [
    {
     "name": "stdout",
     "output_type": "stream",
     "text": [
      "[[0.         0.90194139 1.16013859 0.92913361]\n",
      " [0.93539114 0.69591842 0.228855   0.35707488]]\n"
     ]
    },
    {
     "ename": "NameError",
     "evalue": "name 'W' is not defined",
     "output_type": "error",
     "traceback": [
      "\u001b[0;31m---------------------------------------------------------------------------\u001b[0m",
      "\u001b[0;31mNameError\u001b[0m                                 Traceback (most recent call last)",
      "\u001b[0;32m/var/folders/tf/0ht_tm0j47nbyxwh199lr_hm0000gn/T/ipykernel_86335/3725133259.py\u001b[0m in \u001b[0;36m<module>\u001b[0;34m\u001b[0m\n\u001b[1;32m     18\u001b[0m     \u001b[0mprint\u001b[0m\u001b[0;34m(\u001b[0m\u001b[0mH\u001b[0m\u001b[0;34m)\u001b[0m\u001b[0;34m\u001b[0m\u001b[0;34m\u001b[0m\u001b[0m\n\u001b[1;32m     19\u001b[0m \u001b[0;34m\u001b[0m\u001b[0m\n\u001b[0;32m---> 20\u001b[0;31m     \u001b[0mW\u001b[0m\u001b[0;34m@\u001b[0m\u001b[0mH\u001b[0m\u001b[0;34m\u001b[0m\u001b[0;34m\u001b[0m\u001b[0m\n\u001b[0m\u001b[1;32m     21\u001b[0m     \u001b[0mrecon_check\u001b[0m\u001b[0;34m.\u001b[0m\u001b[0mappend\u001b[0m\u001b[0;34m(\u001b[0m\u001b[0mnp\u001b[0m\u001b[0;34m.\u001b[0m\u001b[0msum\u001b[0m\u001b[0;34m(\u001b[0m\u001b[0mnp\u001b[0m\u001b[0;34m.\u001b[0m\u001b[0msquare\u001b[0m\u001b[0;34m(\u001b[0m\u001b[0mX\u001b[0m \u001b[0;34m-\u001b[0m \u001b[0mW\u001b[0m\u001b[0;34m@\u001b[0m\u001b[0mmodel_t3\u001b[0m\u001b[0;34m.\u001b[0m\u001b[0mn_components_\u001b[0m\u001b[0;34m)\u001b[0m\u001b[0;34m)\u001b[0m\u001b[0;34m)\u001b[0m\u001b[0;34m\u001b[0m\u001b[0;34m\u001b[0m\u001b[0m\n\u001b[1;32m     22\u001b[0m \u001b[0;34m\u001b[0m\u001b[0m\n",
      "\u001b[0;31mNameError\u001b[0m: name 'W' is not defined"
     ]
    }
   ],
   "source": [
    "from sklearn.decomposition import NMF\n",
    "recon = []\n",
    "recon_check = []\n",
    "Ws= []\n",
    "for n_comp in range(2,11):\n",
    "    model_t3 = NMF(\n",
    "            n_components=n_comp,\n",
    "            init='random',\n",
    "            random_state=2,\n",
    "            max_iter=300,\n",
    "            solver='cd')\n",
    "#     Ws.append(model_t3.fit_transform(X))\n",
    "    model_t3.fit(X)\n",
    "#     W = model_t3.fit_transform(X)\n",
    "#     recon.append(model_t3.reconstruction_err_)\n",
    "    H = model_t3.components_\n",
    "#     print(W.shape)\n",
    "    print(H)\n",
    "\n",
    "    W@H\n",
    "    recon_check.append(np.sum(np.square(X - W@model_t3.n_components_)))\n",
    "    \n",
    "\n",
    "#     # For mask and normalization(min:0, max->1)\n",
    "#     mask_std = np.zeros(W.shape)\n",
    "#     mask = np.argmax(W, axis=1)\n",
    "#     for i, max_k in enumerate(mask):\n",
    "#         mask_std[i, max_k] = 1 / np.max(W)\n",
    "#     W_mask_std = W * mask_std\n",
    "# min_k = np.arxmin(np.array(recon))\n",
    "min_k = np.argmin(np.array(recon))"
   ]
  },
  {
   "cell_type": "code",
   "execution_count": null,
   "id": "63d13b70-eadb-4123-ad9e-abeb538ac7c5",
   "metadata": {},
   "outputs": [],
   "source": [
    "min_k\n",
    "X.shape\n",
    "H\n"
   ]
  },
  {
   "cell_type": "code",
   "execution_count": 63,
   "id": "990ef423-b28b-444c-a851-043f53903033",
   "metadata": {},
   "outputs": [
    {
     "data": {
      "text/plain": [
       "<matplotlib.collections.PathCollection at 0x11d8532b0>"
      ]
     },
     "execution_count": 63,
     "metadata": {},
     "output_type": "execute_result"
    },
    {
     "data": {
      "image/png": "[encoded data removed]",
      "text/plain": [
       "<Figure size 432x288 with 1 Axes>"
      ]
     },
     "metadata": {
      "needs_background": "light"
     },
     "output_type": "display_data"
    }
   ],
   "source": [
    "range(2,11)[5]\n",
    "recon = [4.972680932536464, 4.100527742676905, 3.502410655658506, 2.746010898766964, 2.2896091155074947, 1.9391879820336035, 1.58341841449636, 1.2923719015502566, 0.9906785108517413]\n",
    "recon = np.array(recon)\n",
    "# recon = recon ** 2\n",
    "import matplotlib.pyplot as plt\n",
    "fig = plt.figure()\n",
    "plt.scatter(np.arange(len(recon)), recon)"
   ]
  },
  {
   "cell_type": "code",
   "execution_count": 64,
   "id": "7362deb6-6964-47ba-a579-f49e43e7db70",
   "metadata": {},
   "outputs": [
    {
     "name": "stdout",
     "output_type": "stream",
     "text": [
      "[0.87215319 0.59811709 0.75639976 0.45640178 0.35042113 0.35576957\n",
      " 0.29104651 0.30169339]\n",
      "4.972680932536464 4.100527742676905\n",
      "0.8721531898595583 0.5981170870183994\n",
      "0.6857936128339029\n",
      "4.100527742676905 3.502410655658506\n",
      "0.5981170870183994 0.7563997568915419\n",
      "1.2646349240115815\n",
      "3.502410655658506 2.746010898766964\n",
      "0.7563997568915419 0.45640178325946934\n",
      "0.6033870041617577\n",
      "2.746010898766964 2.2896091155074947\n",
      "0.45640178325946934 0.35042113347389114\n",
      "0.7677908946176771\n",
      "2.2896091155074947 1.9391879820336035\n",
      "0.35042113347389114 0.35576956753724365\n",
      "1.0152628753018715\n",
      "1.9391879820336035 1.58341841449636\n",
      "0.35576956753724365 0.2910465129461033\n",
      "0.8180759106542612\n",
      "1.58341841449636 1.2923719015502566\n",
      "0.2910465129461033 0.3016933906985153\n",
      "1.0365813616684136\n"
     ]
    },
    {
     "data": {
      "text/plain": [
       "6"
      ]
     },
     "execution_count": 64,
     "metadata": {},
     "output_type": "execute_result"
    }
   ],
   "source": [
    "# Diff_recons = np.diff(np.array(recon))    \n",
    "# Diff_recons = [a - b for a, b in zip(recon[:-1], recon[1:])] Why????\n",
    "Diff_recons = []\n",
    "for i, j in zip(recon[:-1], recon[1:]):\n",
    "    Diff_recons.append(i - j)    \n",
    "Diff_recons = np.array(Diff_recons)\n",
    "print(Diff_recons)\n",
    "min_k = np.argmin(np.array(recon))\n",
    "genshou = []\n",
    "genshou_ = []\n",
    "for i, (prev, ahead) in enumerate(zip(Diff_recons[:-1], Diff_recons[1:])):\n",
    "    print(np.array(recon)[i], np.array(recon)[i+1])\n",
    "    print(prev, ahead)\n",
    "    print(ahead/prev)\n",
    "    genshou.append(ahead/prev)\n",
    "    genshou_.append(ahead - prev)\n",
    "    if ahead/prev > 0.5: \n",
    "        min_k = i\n",
    "#         break\n",
    "min_k"
   ]
  },
  {
   "cell_type": "code",
   "execution_count": 65,
   "id": "26574344-be8d-4293-9257-b132551469e5",
   "metadata": {},
   "outputs": [
    {
     "data": {
      "text/plain": [
       "<matplotlib.collections.PathCollection at 0x11d8d5550>"
      ]
     },
     "execution_count": 65,
     "metadata": {},
     "output_type": "execute_result"
    },
    {
     "data": {
      "image/png": "[encoded data removed]",
      "text/plain": [
       "<Figure size 432x288 with 1 Axes>"
      ]
     },
     "metadata": {
      "needs_background": "light"
     },
     "output_type": "display_data"
    }
   ],
   "source": [
    "import matplotlib.pyplot as plt\n",
    "fig = plt.figure()\n",
    "plt.scatter(np.arange(len(recon)), recon)\n",
    "plt.scatter(np.arange(len(Diff_recons))+0.5, Diff_recons)\n",
    "plt.scatter(np.arange(len(genshou_))+1.0, genshou_)\n",
    "plt.scatter(np.arange(len(genshou))+1.0, genshou)"
   ]
  },
  {
   "cell_type": "code",
   "execution_count": 51,
   "id": "c53b412c-761f-46e1-a225-8fd795056fbe",
   "metadata": {},
   "outputs": [
    {
     "data": {
      "text/plain": [
       "[0.6857936128339029,\n",
       " 1.2646349240115815,\n",
       " 0.6033870041617577,\n",
       " 0.7677908946176771,\n",
       " 1.0152628753018715,\n",
       " 0.8180759106542612,\n",
       " 1.0365813616684136]"
      ]
     },
     "execution_count": 51,
     "metadata": {},
     "output_type": "execute_result"
    }
   ],
   "source": [
    "genshou"
   ]
  },
  {
   "cell_type": "code",
   "execution_count": 52,
   "id": "5ecbb35c-2358-472a-bfb1-f61596339ff4",
   "metadata": {},
   "outputs": [
    {
     "data": {
      "text/plain": [
       "<matplotlib.collections.PathCollection at 0x11d483c40>"
      ]
     },
     "execution_count": 52,
     "metadata": {},
     "output_type": "execute_result"
    },
    {
     "data": {
      "image/png": "[encoded data removed]",
      "text/plain": [
       "<Figure size 432x288 with 1 Axes>"
      ]
     },
     "metadata": {
      "needs_background": "light"
     },
     "output_type": "display_data"
    }
   ],
   "source": [
    "import matplotlib.pyplot as plt\n",
    "fig = plt.figure()\n",
    "plt.scatter(np.arange(len(genshou)), genshou)"
   ]
  },
  {
   "cell_type": "code",
   "execution_count": null,
   "id": "e221ae50-b8bf-4aa6-ba0f-0d9490611076",
   "metadata": {},
   "outputs": [],
   "source": []
  }
 ],
 "metadata": {
  "kernelspec": {
   "display_name": "Python 3 (ipykernel)",
   "language": "python",
   "name": "python3"
  },
  "language_info": {
   "codemirror_mode": {
    "name": "ipython",
    "version": 3
   },
   "file_extension": ".py",
   "mimetype": "text/x-python",
   "name": "python",
   "nbconvert_exporter": "python",
   "pygments_lexer": "ipython3",
   "version": "3.8.11"
  }
 },
 "nbformat": 4,
 "nbformat_minor": 5
}
